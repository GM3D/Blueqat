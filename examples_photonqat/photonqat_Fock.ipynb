{
 "cells": [
  {
   "cell_type": "code",
   "execution_count": 1,
   "metadata": {},
   "outputs": [],
   "source": [
    "import photonqat as pq"
   ]
  },
  {
   "cell_type": "code",
   "execution_count": 2,
   "metadata": {},
   "outputs": [],
   "source": [
    "import numpy as np\n",
    "import matplotlib.pyplot as plt"
   ]
  },
  {
   "cell_type": "markdown",
   "metadata": {},
   "source": [
    "## Photonqat\n",
    "\n",
    "真空場状態とコヒーレント状態を準備し、スクイージング、ビームスプリッタ操作を行う。  \n",
    "出力状態をWigner関数を用いて可視化する。  \n",
    "cutoffの値を大きくすると計算時間がかかるが、計算結果の精度が上がる。  \n",
    "要求される精度(=cutoff値)はゲートの種類やパラメータによって決まる。\n",
    "cutoff値が小さすぎるとWigner関数が歪む。  \n",
    "簡潔に言うと、Wigner関数の分布が中心$(x, p)=(0, 0)$から離れるほどcutoff値を大きくする必要がある。  \n",
    "位相平面上で中心からの距離は光子数に対応するから。"
   ]
  },
  {
   "cell_type": "code",
   "execution_count": 6,
   "metadata": {},
   "outputs": [
    {
     "data": {
      "image/png": "[encoded data removed]",
      "text/plain": [
       "<Figure size 432x288 with 1 Axes>"
      ]
     },
     "metadata": {
      "needs_background": "light"
     },
     "output_type": "display_data"
    }
   ],
   "source": [
    "alpha = (1 + 1j)\n",
    "mode = 0\n",
    "r = -0.5\n",
    "F = pq.Fock(2, cutoff = 15)\n",
    "F.D(0, alpha)\n",
    "F.S(0, r)\n",
    "F.BS(0, 1, -np.pi/4)\n",
    "F.run()\n",
    "(x, p, W) = F.Wigner(0, plot = 'y', xrange = 5.0, prange = 5.0) # plot"
   ]
  },
  {
   "cell_type": "code",
   "execution_count": 8,
   "metadata": {},
   "outputs": [
    {
     "name": "stdout",
     "output_type": "stream",
     "text": [
      "[2 2 0 2 2 0 2 0 0 2 2 2 2 0 2 2 2 0 2 2 2 0 0 0 0 2 0 0 2 2 0 2 2 2 2 2 0\n",
      " 0 2 2 2 2 2 2 0 2 2 0 0 0]\n",
      "2つのSingle photon Modeをビームスプリッタに入力すると出力モードの光子数は必ず1方のモードが2, もう1方が0になる\n"
     ]
    }
   ],
   "source": [
    "mode = 0\n",
    "F = pq.Fock(2, cutoff = 20)\n",
    "F.n_photon(0, 1)\n",
    "F.n_photon(1, 1)\n",
    "F.BS(0, 1, -np.pi/4)\n",
    "F.run()\n",
    "res = F.photonSampling(0, ite = 50)\n",
    "print(res)\n",
    "print(\"2つのSingle photon Modeをビームスプリッタに入力すると出力モードの光子数は必ず1方のモードが2, もう1方が0になる\")"
   ]
  },
  {
   "cell_type": "code",
   "execution_count": null,
   "metadata": {},
   "outputs": [],
   "source": []
  }
 ],
 "metadata": {
  "kernelspec": {
   "display_name": "Python 3",
   "language": "python",
   "name": "python3"
  },
  "language_info": {
   "codemirror_mode": {
    "name": "ipython",
    "version": 3
   },
   "file_extension": ".py",
   "mimetype": "text/x-python",
   "name": "python",
   "nbconvert_exporter": "python",
   "pygments_lexer": "ipython3",
   "version": "3.6.5"
  }
 },
 "nbformat": 4,
 "nbformat_minor": 2
}
