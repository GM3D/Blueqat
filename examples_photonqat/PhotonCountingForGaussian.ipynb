{
 "cells": [
  {
   "cell_type": "markdown",
   "metadata": {},
   "source": [
    "# Gaussian stateの光子数測定"
   ]
  },
  {
   "cell_type": "markdown",
   "metadata": {},
   "source": [
    "Gaussian stateは通常、直交位相成分$\\hat{x}, \\hat{p}$を変数にもつ多変数ガウス分布で記述されるため、状態を知るにはホモダイン測定を行う方が自然に思えます。  \n",
    "photonqatにもMeasureX, MeasurePとして実装しています。\n",
    "\n",
    "Gaussian stateに対して光子数測定を行いたくなる理由は以下の通りです。\n",
    "\n",
    "1つはGaussian Boson Samplingというスキームです。  \n",
    "Gaussian stateに対し光子数測定を行った場合に、ある光子数が測定結果として得られる確率はHafnianという関数で計算されます。  \n",
    "Hafnianは既存のアルゴリズムでは計算量が指数関数的増加するため、Gaussian Boson Samplingによって計算の加速が期待されています。  \n",
    "Hafnianはグラフ理論におけるPerfect Matchingの計算などと深い関係があるようです。\n",
    "\n",
    "もう1つは、ユニバーサルな光量子計算を行うために提案されているスキームの1つとしてのガウス操作と光子数測定の組み合わせです。  \n",
    "こちらは最近ニュースになった古澤研の量子もつれ状態を用いたユニバーサル量子コンピューティングと関係しています。\n",
    "\n",
    "Gaussian Boson SamplingはカナダのXanadu社が近年研究を推し進めており、複数の関連論文とthe Walrus(https://the-walrus.readthedocs.io/en/latest/index.html) というライブラリを公開しています。  \n",
    "\n",
    "photonqatへのGaussian stateに対する光子数測定の実装も、彼らが論文(arXiv:1905.07011 [quant-ph] )として公開しているアイデア、定式に則っています。"
   ]
  },
  {
   "cell_type": "code",
   "execution_count": 2,
   "metadata": {},
   "outputs": [],
   "source": [
    "import photonqat as pq"
   ]
  },
  {
   "cell_type": "code",
   "execution_count": 3,
   "metadata": {},
   "outputs": [],
   "source": [
    "import numpy as np\n",
    "import matplotlib.pyplot as plt\n",
    "from scipy import special"
   ]
  },
  {
   "cell_type": "markdown",
   "metadata": {},
   "source": [
    "## Photonqat\n",
    "\n",
    "基本的なゲート操作と光子数測定を行った後、2モードの光子数が(0, 0)である確率を計算しています。"
   ]
  },
  {
   "cell_type": "code",
   "execution_count": 4,
   "metadata": {},
   "outputs": [
    {
     "data": {
      "image/png": "[encoded data removed]",
      "text/plain": [
       "<Figure size 432x288 with 1 Axes>"
      ]
     },
     "metadata": {
      "needs_background": "light"
     },
     "output_type": "display_data"
    },
    {
     "name": "stdout",
     "output_type": "stream",
     "text": [
      "mu0 = [0.5202601 0.5202601]\n",
      "cov = [[ 1.19054892 -0.9067151 ]\n",
      " [-0.9067151   1.19054892]]\n",
      "Probability of photon number [0 0] :  0.5695892908718674\n"
     ]
    }
   ],
   "source": [
    "G = pq.Gaussian(2) # two qumode [0, 1]\n",
    "G.D(0, 2) # Displacement gate\n",
    "G.S(0, 1) # X squeeIng gate, r=1\n",
    "G.R(0, np.pi/4) # pi/4 rotation gate\n",
    "G.BS(0, 1, np.pi/4) # 50:50 beam splitter\n",
    "G.run()\n",
    "G.Wigner(0) # plot\n",
    "print('mu0 =', G.mean(0)) # mu of qumode 0\n",
    "print('cov =', G.cov(0)) # covarince of qumode 1\n",
    "\n",
    "m = np.array([0, 0]) # measured output of photon number for each mode\n",
    "prob = G.PhotonDetectionProb(m, m) # probability\n",
    "print(\"Probability of photon number\", m, \": \", prob)"
   ]
  },
  {
   "cell_type": "code",
   "execution_count": null,
   "metadata": {},
   "outputs": [],
   "source": []
  }
 ],
 "metadata": {
  "kernelspec": {
   "display_name": "Python 3",
   "language": "python",
   "name": "python3"
  },
  "language_info": {
   "codemirror_mode": {
    "name": "ipython",
    "version": 3
   },
   "file_extension": ".py",
   "mimetype": "text/x-python",
   "name": "python",
   "nbconvert_exporter": "python",
   "pygments_lexer": "ipython3",
   "version": "3.6.5"
  }
 },
 "nbformat": 4,
 "nbformat_minor": 2
}
