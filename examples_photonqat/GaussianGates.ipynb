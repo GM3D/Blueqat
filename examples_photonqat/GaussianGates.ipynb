{
 "cells": [
  {
   "cell_type": "code",
   "execution_count": 2,
   "metadata": {},
   "outputs": [],
   "source": [
    "import photonqat as pq"
   ]
  },
  {
   "cell_type": "code",
   "execution_count": 3,
   "metadata": {},
   "outputs": [],
   "source": [
    "import numpy as np\n",
    "import matplotlib.pyplot as plt"
   ]
  },
  {
   "cell_type": "markdown",
   "metadata": {},
   "source": [
    "# Photonqat\n",
    "\n",
    "基本的なゲート動作と測定を一通り行っています。"
   ]
  },
  {
   "cell_type": "code",
   "execution_count": 5,
   "metadata": {},
   "outputs": [
    {
     "data": {
      "image/png": "[encoded data removed]",
      "text/plain": [
       "<Figure size 432x288 with 1 Axes>"
      ]
     },
     "metadata": {
      "needs_background": "light"
     },
     "output_type": "display_data"
    },
    {
     "name": "stdout",
     "output_type": "stream",
     "text": [
      "measured x = -1.5222550182126553\n",
      "mu0 = [ 1.10144286 -0.24285338]\n",
      "cov0 = [[ 0.79001283 -0.38079708]\n",
      " [-0.38079708  0.5       ]]\n"
     ]
    }
   ],
   "source": [
    "G = pq.Gaussian(2) # two qumode [0, 1]\n",
    "G.D(0, 2) # Displacement gate, x to x+2\n",
    "G.S(0, 1) # X squeeIng gate, r=1\n",
    "G.R(0, np.pi/4) # pi/4 rotation gate\n",
    "G.BS(0, 1, np.pi/4) # 50:50 beam splitter\n",
    "G.MeasX(1) # Measure mode 1\n",
    "G.run()\n",
    "G.Wigner(0) # plot\n",
    "print('measured x =', G.Creg(1, \"x\").read())\n",
    "print('mu0 =', G.mean(0)) # mu of qumode 0\n",
    "print('cov0 =', G.cov(0)) # covarince of qumode 1"
   ]
  },
  {
   "cell_type": "markdown",
   "metadata": {},
   "source": [
    "## Method chain is available"
   ]
  },
  {
   "cell_type": "code",
   "execution_count": 6,
   "metadata": {},
   "outputs": [
    {
     "data": {
      "image/png": "[encoded data removed]",
      "text/plain": [
       "<Figure size 432x288 with 1 Axes>"
      ]
     },
     "metadata": {
      "needs_background": "light"
     },
     "output_type": "display_data"
    },
    {
     "name": "stdout",
     "output_type": "stream",
     "text": [
      "measured x = -0.42699214217093645\n",
      "mu0 = [0.46616229 0.59129242]\n",
      "cov0 = [[ 0.79001283 -0.38079708]\n",
      " [-0.38079708  0.5       ]]\n"
     ]
    }
   ],
   "source": [
    "G = pq.Gaussian(2).D(0, 2).S(0, 1).R(0, np.pi/4).BS(0, 1, np.pi/4)\n",
    "G.MeasX(1).run()\n",
    "G.Wigner(0) # plot\n",
    "print('measured x =', G.Creg(1, \"x\").read())\n",
    "print('mu0 =', G.mean(0)) # mu of qumode 0\n",
    "print('cov0 =', G.cov(0)) # covarince of qumode 1"
   ]
  },
  {
   "cell_type": "markdown",
   "metadata": {},
   "source": [
    "## 以下、メモ"
   ]
  },
  {
   "cell_type": "markdown",
   "metadata": {},
   "source": [
    "## Phase space について\n",
    "\n",
    "N bosonic mode Hilbert space  \n",
    "$\\otimes^{N}_{k=1} \\mathcal{H}_k$\n",
    "\n",
    "vectorial operator  \n",
    "$\\hat{\\mathbf{b}} = (\\hat{a}_1, \\hat{a}_1^{\\dagger}, \\dots, \\hat{a}_N, \\hat{a}_N^{\\dagger})$ : 2N elements\n",
    "\n",
    "bosonic commutation relations  \n",
    "$[\\hat{b}_i, \\hat{b}_j] = \\Omega_{ij}\\ \\ (i, j = 1, \\dots, 2N)$ \n",
    "\n",
    "$\\mathbf{\\Omega} = \\oplus_{k=1}^{N}\\omega\\ \\ \\ \n",
    "\\omega = \n",
    "\\begin{pmatrix}\n",
    "0 & 1 \\\\\n",
    "-1 & 0 \\\\\n",
    "\\end{pmatrix}\n",
    "$\n",
    "\n",
    "Quadrature field  \n",
    "$\\hat{\\mathbf{x}} = (\\hat{q}_1, \\hat{p}_1, \\dots, \\hat{q}_N, \\hat{p}_N)$ : 2N elements\n",
    "\n",
    "canonical commutation relation  \n",
    "$[\\hat{x}_i, \\hat{x}_j] = 2i\\Omega_{ij}\\ \\ (i, j = 1, \\dots, 2N)$ "
   ]
  },
  {
   "cell_type": "markdown",
   "metadata": {},
   "source": [
    "## 密度演算子とWigner関数\n",
    "\n",
    "任意の密度演算子$\\hat{\\rho}$を考える  \n",
    "\n",
    "任意の密度演算子は等価なWigner関数が存在する\n",
    "\n",
    "Weyl operator  \n",
    "$D(\\xi) = \\exp(i \\hat{x}^T \\Omega \\hat{\\xi})$  \n",
    "\n",
    "これを用いて、Wigner characteristic functionを定義できる  \n",
    "$\\chi (\\xi) = \\mathrm{Tr}[\\hat{\\rho}D(\\xi)]$\n",
    "\n",
    "Wigner characteristic functionのフーリエ変換がWigner function  \n",
    "$W(\\mathbf{x}) = \\int_{R^{2N}} \\frac{d^{2N}}{(2\\pi)^{2N}} \\exp{(-i \\hat{x}^T \\Omega \\hat{\\xi})} \\chi (\\xi)$"
   ]
  },
  {
   "cell_type": "markdown",
   "metadata": {},
   "source": [
    "## 統計量とWigner関数\n",
    "\n",
    "Wigner functionは統計量でも定義できる  \n",
    "\n",
    "- first moment  \n",
    "$\\bar{\\mathbf{x}} = \\langle \\hat{\\mathbf{x}} \\rangle= \\mathrm{Tr}[\\hat{\\mathbf{x}} \\hat{\\rho}]$\n",
    "\n",
    "- second moment  \n",
    "$V_{ij} = \\frac{1}{2}\\langle \\{\\Delta\\hat{x}_i, \\Delta\\hat{x}_j \\}\\rangle$  \n",
    "$\\{ A, B \\} = AB+BA$\n",
    "\n",
    "$V_{ii}$は$\\hat{x}_i$の分散をあらわす\n",
    "\n",
    "Gaussian stateは最初の2モーメントだけで完全に記述可能"
   ]
  },
  {
   "cell_type": "markdown",
   "metadata": {},
   "source": [
    "## Gaussian Unitaryについて\n",
    "\n",
    "Quadrature operatorにおいては、Gaussian UnitaryはAffien写像で書ける！  \n",
    "$(\\mathbf{S}, \\mathbf{d}) : \\hat{\\mathrm{x}}\\to \\mathbf{S}\\mathrm{x} + \\mathbf{d}$\n",
    "\n",
    "Williamson's Theorem  \n",
    "任意の偶数次元の正定値実行列はsimplectic transformで対角化できる  \n",
    "$\\mathbf{V} = \\mathbf{SV}^{\\oplus}\\mathbf{S}^{T}$  \n",
    "$\\mathbf{V}^{\\oplus} = \\oplus^{N}_{k=1} \\nu_k \\mathbf{I}$"
   ]
  },
  {
   "cell_type": "markdown",
   "metadata": {},
   "source": [
    "## Gaussian Measurement  \n",
    "\n",
    "POVM: $\\Pi_i = E_{i}^{\\dagger}E_i\\ \\ \\ (\\sum_i E_{i}^{\\dagger}E_i = I)$  \n",
    "これを連続量に置き換える  \n",
    "\n",
    "Gaussian Measurementとは、Gaussian stateに対して行い、出力結果がGaussian Distributionで、測定しなかったモードはGaussian stateのままである\n",
    "\n",
    "測定するsubsystemを$\\mathbf{B}$として、それ以外のsubsystemを$\\mathbf{A}$とする。\n",
    "\n",
    "測定結果の確率分布：測定モード以外の直交位相を周辺化したGaussian Wigner分布  \n",
    "測定後の状態：以下のようになる.\n",
    "\n",
    "\n",
    "$\\mathbf{V} = \\mathbf{A} - \\mathbf{C}(\\mathbf{\\Pi B \\Pi})^{-1}\\mathbf{C}^T$  \n",
    "$\\mathbf{\\Pi} = \\rm{diag}(1, 0)$     ($\\hat{x}$測定の場合)\n",
    "\n",
    "$\\mathbf{\\Pi B \\Pi}$は非正則。pseudo-inverseを用いる。  \n",
    "$(\\mathbf{\\Pi B \\Pi})^{-1} = B_{11}^{-1}\\Pi$\n",
    "\n",
    "これは多変量ガウス分布の条件付き分布をとるのと基本的に同じ  \n",
    "なので同様に測定後の状態の平均もとれる\n",
    "\n",
    "$\\mathbf{\\mu} = \\mathbf{\\mu_A} - \\mathbf{C}(\\mathbf{\\Pi B \\Pi})^{-1}(\\mathbf{\\mu_B} - x_B\\mathbf{\\Pi})$"
   ]
  },
  {
   "cell_type": "code",
   "execution_count": null,
   "metadata": {},
   "outputs": [],
   "source": []
  }
 ],
 "metadata": {
  "kernelspec": {
   "display_name": "Python 3",
   "language": "python",
   "name": "python3"
  },
  "language_info": {
   "codemirror_mode": {
    "name": "ipython",
    "version": 3
   },
   "file_extension": ".py",
   "mimetype": "text/x-python",
   "name": "python",
   "nbconvert_exporter": "python",
   "pygments_lexer": "ipython3",
   "version": "3.6.5"
  }
 },
 "nbformat": 4,
 "nbformat_minor": 2
}
